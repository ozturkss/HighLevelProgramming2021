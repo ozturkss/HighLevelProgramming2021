{
 "cells": [
  {
   "cell_type": "markdown",
   "metadata": {},
   "source": [
    "1\\. Write a function that converts numbers among the bin, dec, and hex representations (bin<->dec<->hex)"
   ]
  },
  {
   "cell_type": "code",
   "execution_count": null,
   "metadata": {},
   "outputs": [],
   "source": [
    "def bin_rep(num):\n",
    "    return bin(num)\n",
    "    \n",
    "def dec_rep(num):\n",
    "    return float(num)\n",
    "    \n",
    "def hex_rep(num):\n",
    "    return hex(num)"
   ]
  },
  {
   "cell_type": "markdown",
   "metadata": {},
   "source": [
    "2\\. Write a function that converts a 32 bit word into a single precision floating point (i.e. interprets the various bits as sign, mantissa and exponent) and check its validity."
   ]
  },
  {
   "cell_type": "code",
   "execution_count": 17,
   "metadata": {},
   "outputs": [
    {
     "name": "stdout",
     "output_type": "stream",
     "text": [
      "floating point:\n",
      "0|10000001|01100000000000000000000\n",
      "positive\n"
     ]
    }
   ],
   "source": [
    "def FloatPoint(num):\n",
    "    signofBit = 0\n",
    "    if(num < 0):\n",
    "        signofBit = 1\n",
    "    num = abs(num)\n",
    "    intStr = bin(int(num))[2 : ]\n",
    "    fStr = BFraction(num - int(num))\n",
    "    ind = intStr.index('1')\n",
    "    expStr = bin((len(intStr) - ind - 1) + 127)[2 : ]\n",
    "    mantStr = intStr[ind + 1 : ] + fStr\n",
    "    mantStr = mantStr + ('0' * (23 - len(mantStr)))\n",
    "    \n",
    "    return signofBit, expStr, mantStr\n",
    "\n",
    "def BFraction(f):\n",
    "    \n",
    "    while (f):\n",
    "        f*= 2\n",
    "        if (f >= 1):\n",
    "            integer = 1\n",
    "            f -= 1\n",
    "        else:\n",
    "            integer = 0\n",
    "            \n",
    "    return str(integer)\n",
    "\n",
    "\n",
    "num= 5.6524\n",
    "\n",
    "signofBit, expStr, mantStr = FloatPoint(num)\n",
    "ajd32 = str(signofBit) + '|' + expStr + '|' + mantStr\n",
    "print(\"floating point:\")\n",
    "print(ajd32)\n",
    "if (signofBit == 1):\n",
    "    print(\"negative\")\n",
    "else :\n",
    "    print (\"positive\")"
   ]
  },
  {
   "cell_type": "markdown",
   "metadata": {},
   "source": [
    "3\\. Write a program to determine the underflow and overflow limits (within a factor of 2) for python on your computer. \n",
    "\n",
    "**Tip**: define two variables initialized to 1 and halve/double them for a sufficient amount of times to exceed the under/over-flow limits  "
   ]
  },
  {
   "cell_type": "code",
   "execution_count": 12,
   "metadata": {},
   "outputs": [
    {
     "name": "stdout",
     "output_type": "stream",
     "text": [
      "0.5 2\n",
      "0.25 4\n",
      "0.125 8\n",
      "0.0625 16\n",
      "0.03125 32\n",
      "0.015625 64\n",
      "0.0078125 128\n",
      "0.00390625 256\n",
      "0.001953125 512\n",
      "0.0009765625 1024\n",
      "0.00048828125 2048\n",
      "0.000244140625 4096\n",
      "0.0001220703125 8192\n",
      "6.103515625e-05 16384\n",
      "3.0517578125e-05 32768\n",
      "1.52587890625e-05 65536\n",
      "7.62939453125e-06 131072\n",
      "3.814697265625e-06 262144\n",
      "1.9073486328125e-06 524288\n",
      "9.5367431640625e-07 1048576\n",
      "4.76837158203125e-07 2097152\n",
      "2.384185791015625e-07 4194304\n",
      "1.1920928955078125e-07 8388608\n",
      "5.960464477539063e-08 16777216\n",
      "2.9802322387695312e-08 33554432\n",
      "1.4901161193847656e-08 67108864\n",
      "7.450580596923828e-09 134217728\n",
      "3.725290298461914e-09 268435456\n",
      "1.862645149230957e-09 536870912\n",
      "9.313225746154785e-10 1073741824\n"
     ]
    }
   ],
   "source": [
    "def under_over_flow(n):   \n",
    "    under = 1   \n",
    "    over  = 1    \n",
    "    for i in range (n):\n",
    "        under = under/2   \n",
    "        over  = over*2\n",
    "        print (under, over)\n",
    "under_over_flow(30)"
   ]
  },
  {
   "cell_type": "markdown",
   "metadata": {},
   "source": [
    "4\\. Write a program to determine the machine precision\n",
    "\n",
    "**Tip**: define a new variable by adding an increasingly smaller value (in the same way as the previous problem) and check when the addition starts to have no effect on the number"
   ]
  },
  {
   "cell_type": "code",
   "execution_count": 31,
   "metadata": {},
   "outputs": [
    {
     "name": "stdout",
     "output_type": "stream",
     "text": [
      "5.1\n",
      "5.199999999999999\n",
      "5.299999999999999\n",
      "5.399999999999999\n",
      "5.499999999999998\n",
      "5.599999999999998\n",
      "5.6999999999999975\n",
      "5.799999999999997\n",
      "5.899999999999997\n",
      "5.9999999999999964\n",
      "6.099999999999996\n",
      "6.199999999999996\n",
      "6.299999999999995\n",
      "6.399999999999995\n",
      "6.499999999999995\n",
      "6.599999999999994\n",
      "6.699999999999994\n",
      "6.799999999999994\n",
      "6.899999999999993\n",
      "6.999999999999993\n"
     ]
    }
   ],
   "source": [
    "n = 20\n",
    "var = 5\n",
    "\n",
    "for i in range(n):\n",
    "    var = var + 1e-1\n",
    "    fac = 1e-1 * 1e-1\n",
    "    print(var)"
   ]
  },
  {
   "cell_type": "markdown",
   "metadata": {},
   "source": [
    "# 5\\. Write a function that takes in input three parameters $a$, $b$ and $c$ and prints out the two solutions to the quadratic equation $ax^2+bx+c=0$ using the standard formula:\n",
    "$$\n",
    "x=\\frac{-b\\pm\\sqrt{b^2-4ac}}{2a}\n",
    "$$\n",
    "\n",
    "(a) use the program to compute the solution for $a=0.001$, $b=1000$ and $c=0.001$\n",
    "\n",
    "(b) re-express the standard solution formula by multiplying the numerator and the denominator by $-b\\mp\\sqrt{b^2-4ac}$ and again find the solution for $a=0.001$, $b=1000$ and $c=0.001$. How does it compare with what has been previously obtained, and why?\n",
    "\n",
    "(c) write a function that computes the roots of a quadratic equation accurately in all cases"
   ]
  },
  {
   "cell_type": "code",
   "execution_count": 33,
   "metadata": {},
   "outputs": [
    {
     "name": "stdout",
     "output_type": "stream",
     "text": [
      "(-1.0000010000226212, -999998.999999)\n",
      "(-1.000001000022621, -999998.9999989998)\n",
      " real and different roots \n",
      "-9.999894245993346e-07\n",
      "-999999.999999\n"
     ]
    }
   ],
   "source": [
    "import math as m \n",
    "def calculate_formula(a,b,c):\n",
    "    p_numerator = (-1)*b+m.sqrt(b*b-4*a*b)\n",
    "    m_numerator = (-1)*b-m.sqrt(b*b-4*a*b)\n",
    "    denominator = 2*a\n",
    "    return p_numerator/denominator, m_numerator/denominator\n",
    "print (calculate_formula(0.001,1000,0.001))\n",
    "\n",
    "def calculate_formula(a,b,c):\n",
    "    p_numerator = (-1)*b+m.sqrt(b*b-4*a*b)\n",
    "    m_numerator = (-1)*b-m.sqrt(b*b-4*a*b)\n",
    "    denominator = 2*a\n",
    "    return (p_numerator*m_numerator)/(denominator*m_numerator), (m_numerator*p_numerator)/(denominator*p_numerator)\n",
    "print (calculate_formula(0.001,1000,0.001))\n",
    "\n",
    "\n",
    "def findRoots(a, b, c):  \n",
    "  \n",
    "    dis_form = b * b - 4 * a * c  \n",
    "    sqrt_val = m.sqrt(abs(dis_form))  \n",
    "  \n",
    "  \n",
    "    if dis_form > 0:  \n",
    "        print(\" real and different roots \")  \n",
    "        print((-b + sqrt_val) / (2 * a))  \n",
    "        print((-b - sqrt_val) / (2 * a))  \n",
    "  \n",
    "    elif dis_form == 0:  \n",
    "        print(\" real and same roots\")  \n",
    "        print(-b / (2 * a))  \n",
    "  \n",
    "  \n",
    "    else:  \n",
    "        print(\"Complex Roots\")  \n",
    "        print(- b / (2 * a), \" + i\", sqrt_val)  \n",
    "        print(- b / (2 * a), \" - i\", sqrt_val)\n",
    "        \n",
    "findRoots(0.001,1000,0.001)"
   ]
  },
  {
   "cell_type": "code",
   "execution_count": 29,
   "metadata": {},
   "outputs": [
    {
     "name": "stdout",
     "output_type": "stream",
     "text": [
      "Requirement already satisfied: numpy in /home/ozturks/.local/lib/python3.9/site-packages (1.21.4)\n",
      "Requirement already satisfied: sympy in /home/ozturks/.local/lib/python3.9/site-packages (1.9)\n",
      "Requirement already satisfied: mpmath>=0.19 in /home/ozturks/.local/lib/python3.9/site-packages (from sympy) (1.2.1)\n"
     ]
    }
   ],
   "source": [
    "!pip3 install numpy\n",
    "!pip3 install sympy"
   ]
  },
  {
   "cell_type": "markdown",
   "metadata": {},
   "source": [
    "6\\. Write a program that implements the function $f(x)=x(x−1)$\n",
    "\n",
    "(a) Calculate the derivative of the function at the point $x = 1$ using the derivative definition:\n",
    "\n",
    "$$\n",
    "\\frac{{\\rm d}f}{{\\rm d}x} = \\lim_{\\delta\\to0} \\frac{f(x+\\delta)-f(x)}{\\delta}\n",
    "$$\n",
    "\n",
    "with $\\delta = 10^{−2}$. Calculate the true value of the same derivative analytically and compare it with the answer your program gives. The two will not agree perfectly. Why?\n",
    "\n",
    "(b) Repeat the calculation for $\\delta = 10^{−4}, 10^{−6}, 10^{−8}, 10^{−10}, 10^{−12}$ and $10^{−14}$. How does the accuracy scales with $\\delta$?"
   ]
  },
  {
   "cell_type": "code",
   "execution_count": 4,
   "metadata": {},
   "outputs": [
    {
     "name": "stdout",
     "output_type": "stream",
     "text": [
      "2*x - 1\n",
      "With python derivative :  1\n",
      " h=0.01 derivative :  1.01\n",
      "With h =  0.00010000000000  derivative :  1.0001\n",
      "With h =  0.00000100000000  derivative :  1.000001\n",
      "With h =  0.00000001000000  derivative :  1.0\n",
      "With h =  0.00000000010000  derivative :  1.0\n",
      "With h =  0.00000000000100  derivative :  1.000089\n",
      "With h =  0.00000000000001  derivative :  0.999201\n"
     ]
    }
   ],
   "source": [
    "from sympy import *\n",
    "import math\n",
    "\n",
    "x = Symbol('x')\n",
    "f = x*(x-1)\n",
    "f_prime = f.diff(x)\n",
    "print(f_prime)\n",
    "f_prime = lambdify(x, f_prime)\n",
    "print(\"With python derivative : \", f_prime(1))\n",
    "\n",
    "\n",
    "def f(x):\n",
    "    return x*(x-1)\n",
    "\n",
    "def derive(func, v):\n",
    "    h = 1e-2\n",
    "    numerator = func(v + h) - func(v)\n",
    "    denominator = h\n",
    "    return float(\"%f\" % (numerator / denominator))\n",
    "\n",
    "print(\" h=0.01 derivative : \", derive(f, 1))\n",
    "\n",
    "# b) The results are more correct  when the h value get close to 0\n",
    "\n",
    "def f(x):\n",
    "    return x*(x-1)\n",
    "\n",
    "def derive_2(func, v,h):\n",
    "    numerator = func(v + h) - func(v)\n",
    "    denominator = h\n",
    "    return float(\"%f\" % (numerator / denominator))\n",
    "h = 1e-2\n",
    "for i in range(0,6):\n",
    "    h = h * 1e-2\n",
    "    print(\"With h = \",\"%.14f\" % h ,\" derivative : \", derive_2(f, 1,h))"
   ]
  },
  {
   "cell_type": "markdown",
   "metadata": {},
   "source": [
    "7\\. Consider the integral of the semicircle of radius 1:\n",
    "$$\n",
    "I=\\int_{-1}^{1} \\sqrt(1-x^2) {\\rm d}x\n",
    "$$\n",
    "which is known to be $I=\\frac{\\pi}{2}=1.57079632679...$.\n",
    "\n",
    "Alternatively we can use the Riemann definition of the integral:\n",
    "$$\n",
    "I=\\lim_{N\\to\\infty} \\sum_{k=1}^{N} h y_k \n",
    "$$\n",
    "\n",
    "with $h=2/N$ the width of each of the $N$ slices the domain is divided into and where\n",
    "$y_k$ is the value of the function at the $k-$th slice.\n",
    "\n",
    "(a) Write a program to compute the integral with $N=100$. How does the result compare to the true value?\n",
    "\n",
    "(b) How much can $N$ be increased if the computation needs to be run in less than a second? What is the gain in running it for 1 minute? \n"
   ]
  },
  {
   "cell_type": "code",
   "execution_count": null,
   "metadata": {},
   "outputs": [
    {
     "name": "stdout",
     "output_type": "stream",
     "text": [
      "N=100: I=1.5712827762297958, error=4.86e-04\n",
      "\n",
      "N=100: 0.00000s\n",
      "N=1000: 0.00000s\n",
      "N=10000: 0.00000s\n",
      "N=100000: 0.00000s\n",
      "N=1000000: 0.00000s\n",
      "N=10000000: 0.00000s\n"
     ]
    }
   ],
   "source": [
    "import math as m\n",
    "import time as t\n",
    "\n",
    "\n",
    "def integral(f, a, b, n):\n",
    "    h = (b - a) / n\n",
    "    return sum([h * f(x) for x in i_value(a, b, n)])\n",
    "\n",
    "\n",
    "def i_value(l, u, length):\n",
    "    d= (u - l) / length\n",
    "    return [l + d*(i + .5) for i in range(length)]\n",
    "\n",
    "\n",
    "\n",
    "s_circ = lambda x: m.sqrt(1 - x**2)\n",
    "n = 100\n",
    "I = integral(s_circ, -1, 1, n)\n",
    "print(f'N={n}: I={I}, error={I-m.pi/2:.2e}\\n')\n",
    "\n",
    "exeTime = 0\n",
    "n_max = 1000000000 \n",
    "while exeTime < 60 and n < n_max:\n",
    "    start = t.time()\n",
    "    integral(s_circ, -1, 1, n)\n",
    "    executoiontime = t.time() - start\n",
    "    print(f'N={n}: {exeTime:.5f}s')\n",
    "    n *= 10\n",
    "    \n",
    "n1 = 1000  \n",
    "n2 = 100000\n",
    "I1 = integral(semi_circ, -1, 1, n1)\n",
    "I2 = integral(semi_circ, -1, 1, n2)\n",
    "e1 = abs(I1 - m.pi/2)\n",
    "e2 = abs(I2 - m.pi/2)\n",
    "print()\n",
    "print(f'N={n1}: I={I1}, error={e1:.2e}')\n",
    "print(f'N={n2}: I={I2}, error={e2:.2e}\\n')"
   ]
  },
  {
   "cell_type": "code",
   "execution_count": null,
   "metadata": {},
   "outputs": [],
   "source": []
  }
 ],
 "metadata": {
  "celltoolbar": "Raw Cell Format",
  "kernelspec": {
   "display_name": "Python 3",
   "language": "python",
   "name": "python3"
  },
  "language_info": {
   "codemirror_mode": {
    "name": "ipython",
    "version": 3
   },
   "file_extension": ".py",
   "mimetype": "text/x-python",
   "name": "python",
   "nbconvert_exporter": "python",
   "pygments_lexer": "ipython3",
   "version": "3.9.5"
  }
 },
 "nbformat": 4,
 "nbformat_minor": 2
}
